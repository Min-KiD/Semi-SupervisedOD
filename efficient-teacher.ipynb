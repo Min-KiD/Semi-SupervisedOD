{
 "cells": [
  {
   "cell_type": "code",
   "execution_count": 1,
   "id": "b74938ba",
   "metadata": {
    "_cell_guid": "b1076dfc-b9ad-4769-8c92-a6c4dae69d19",
    "_uuid": "8f2839f25d086af736a60e9eeb907d3b93b6e0e5",
    "execution": {
     "iopub.execute_input": "2024-06-12T05:05:55.101425Z",
     "iopub.status.busy": "2024-06-12T05:05:55.101103Z",
     "iopub.status.idle": "2024-06-12T05:05:59.428064Z",
     "shell.execute_reply": "2024-06-12T05:05:59.427218Z"
    },
    "papermill": {
     "duration": 4.335654,
     "end_time": "2024-06-12T05:05:59.430589",
     "exception": false,
     "start_time": "2024-06-12T05:05:55.094935",
     "status": "completed"
    },
    "tags": []
   },
   "outputs": [],
   "source": [
    "import numpy as np # linear algebra\n",
    "import pandas as pd # data processing, CSV file I/O (e.g. pd.read_csv)\n",
    "\n",
    "import torch\n",
    "import os\n",
    "import yaml\n",
    "import json"
   ]
  },
  {
   "cell_type": "code",
   "execution_count": 2,
   "id": "d4149353",
   "metadata": {
    "execution": {
     "iopub.execute_input": "2024-06-12T05:05:59.440838Z",
     "iopub.status.busy": "2024-06-12T05:05:59.440308Z",
     "iopub.status.idle": "2024-06-12T05:09:33.522701Z",
     "shell.execute_reply": "2024-06-12T05:09:33.521901Z"
    },
    "papermill": {
     "duration": 214.089964,
     "end_time": "2024-06-12T05:09:33.525106",
     "exception": false,
     "start_time": "2024-06-12T05:05:59.435142",
     "status": "completed"
    },
    "tags": []
   },
   "outputs": [],
   "source": [
    "import os\n",
    "import json\n",
    "import shutil\n",
    "from collections import defaultdict\n",
    "\n",
    "coco_path = '/kaggle/input/coco-2017-dataset/coco2017/train2017'\n",
    "train_json = '/kaggle/input/semis-od-coco-10/instances_train2017_labeled.json'\n",
    "val_json = '/kaggle/input/semis-od-coco-10/instances_val2017.json'\n",
    "unlabeled_json = '/kaggle/input/semis-od-coco-10/instances_train2017_unlabeled.json'\n",
    "output_path = '/kaggle/working/datasets/coco'\n",
    "\n",
    "os.makedirs(os.path.join(output_path, 'images', 'train'), exist_ok=True)\n",
    "os.makedirs(os.path.join(output_path, 'images', 'val'), exist_ok=True)\n",
    "os.makedirs(os.path.join(output_path, 'labels', 'train'), exist_ok=True)\n",
    "os.makedirs(os.path.join(output_path, 'labels', 'val'), exist_ok=True)\n",
    "os.makedirs('/kaggle/working/data/coco', exist_ok=True)\n",
    "\n",
    "\n",
    "with open(train_json) as f:\n",
    "    train_annotations = json.load(f)\n",
    "\n",
    "with open(val_json) as f:\n",
    "    val_annotations = json.load(f)\n",
    "\n",
    "with open(unlabeled_json) as f:\n",
    "    unlabeled_annotations = json.load(f)\n",
    "\n",
    "categories = {category['id']: category['name'] for category in train_annotations['categories']}\n",
    "\n",
    "# Convert COCO bbox to YOLO format\n",
    "def convert_bbox(size, box):\n",
    "    dw = 1. / size[0]\n",
    "    dh = 1. / size[1]\n",
    "    x = (box[0] + box[2] / 2.0) * dw\n",
    "    y = (box[1] + box[3] / 2.0) * dh\n",
    "    w = box[2] * dw\n",
    "    h = box[3] * dh\n",
    "    return (x, y, w, h)\n",
    "\n",
    "# Process labeled annotations\n",
    "def process_annotations(annotations, split):\n",
    "    images = {image['id']: image for image in annotations['images']}\n",
    "    seen_labels = defaultdict(set)  # Track seen labels for each image\n",
    "    for ann in annotations['annotations']:\n",
    "        image = images[ann['image_id']]\n",
    "        bbox = convert_bbox((image['width'], image['height']), ann['bbox'])\n",
    "        label = ann['category_id'] - 2   # YOLO class ids start at 0\n",
    "        if (label < 0 or label > 7):\n",
    "            print(label)\n",
    "        bbox_tuple = (label, *bbox)  # Create a tuple of label and bbox for comparison\n",
    "\n",
    "        if bbox_tuple not in seen_labels[image['id']]:  # Check for duplicates\n",
    "            seen_labels[image['id']].add(bbox_tuple)\n",
    "            # Write label file\n",
    "            label_path = os.path.join(output_path, 'labels', split, f\"{os.path.splitext(image['file_name'])[0]}.txt\")\n",
    "            with open(label_path, 'a') as f:\n",
    "                f.write(f\"{label} \" + \" \".join(map(str, bbox)) + '\\n')\n",
    "\n",
    "        # Copy image to split folder if not already copied\n",
    "        target_image_path = os.path.join(output_path, 'images', split, image['file_name'])\n",
    "        if not os.path.exists(target_image_path):\n",
    "            shutil.copy(os.path.join(coco_path, image['file_name']), target_image_path)\n",
    "\n",
    "# Process unlabeled annotations\n",
    "def process_unlabeled_annotations(annotations, split):\n",
    "    images = {image['id']: image for image in annotations['images']}\n",
    "    for image_id, image in images.items():\n",
    "        # Write image file names to a .txt file for unlabeled data\n",
    "        label_path = os.path.join(output_path, 'labels', split, f\"{os.path.splitext(image['file_name'])[0]}.txt\")\n",
    "        with open(label_path, 'w') as f:\n",
    "            f.write('')\n",
    "\n",
    "        # Copy image to split folder if not already copied\n",
    "        target_image_path = os.path.join(output_path, 'images', split, image['file_name'])\n",
    "        if not os.path.exists(target_image_path):\n",
    "            shutil.copy(os.path.join(coco_path, image['file_name']), target_image_path)\n",
    "\n",
    "# Process train and val annotations\n",
    "process_annotations(train_annotations, 'train')\n",
    "process_annotations(val_annotations, 'val')\n",
    "\n",
    "# Process unlabeled annotations\n",
    "os.makedirs(os.path.join(output_path, 'images', 'unlabeled'), exist_ok=True)\n",
    "os.makedirs(os.path.join(output_path, 'labels', 'unlabeled'), exist_ok=True)\n",
    "process_unlabeled_annotations(unlabeled_annotations, 'unlabeled')\n",
    "\n",
    "# Create .yaml file\n",
    "yaml_content = f\"\"\"\n",
    "train: {os.path.join(output_path, 'images', 'train')}\n",
    "val: {os.path.join(output_path, 'images', 'val')}\n",
    "test: {os.path.join(output_path, 'images', 'val')}\n",
    "target: {os.path.join(output_path, 'images', 'unlabeled')}\n",
    "\n",
    "nc: {len(categories)}\n",
    "names: {list(categories.values())}\n",
    "\"\"\"\n",
    "\n",
    "with open(os.path.join(output_path, 'dataset.yaml'), 'w') as f:\n",
    "    f.write(yaml_content)\n",
    "    \n",
    "# Create .txt files for training and target datasets\n",
    "train_txt_path = '/kaggle/working/data/coco/train2017_p10.0_labeled_data.txt'\n",
    "unlabeled_txt_path = '/kaggle/working/data/coco/train2017_p10.0_unlabeled_data.txt'\n",
    "val_txt_path = '/kaggle/working/data/coco/val2017.txt'\n",
    "\n",
    "with open(train_txt_path, 'w') as f:\n",
    "    for file_name in os.listdir(os.path.join(output_path, 'images', 'train')):\n",
    "        f.write(f\"datasets/coco/images/train/{file_name}\\n\")\n",
    "\n",
    "with open(unlabeled_txt_path, 'w') as f:\n",
    "    for file_name in os.listdir(os.path.join(output_path, 'images', 'unlabeled')):\n",
    "        f.write(f\"datasets/coco/images/unlabeled/{file_name}\\n\")\n",
    "        \n",
    "with open(val_txt_path, 'w') as f:\n",
    "    for file_name in os.listdir(os.path.join(output_path, 'images', 'val')):\n",
    "        f.write(f\"datasets/coco/images/val/{file_name}\\n\")\n"
   ]
  },
  {
   "cell_type": "code",
   "execution_count": 3,
   "id": "caa1f777",
   "metadata": {
    "execution": {
     "iopub.execute_input": "2024-06-12T05:09:33.533854Z",
     "iopub.status.busy": "2024-06-12T05:09:33.533550Z",
     "iopub.status.idle": "2024-06-12T05:09:33.541837Z",
     "shell.execute_reply": "2024-06-12T05:09:33.540898Z"
    },
    "papermill": {
     "duration": 0.014619,
     "end_time": "2024-06-12T05:09:33.543701",
     "exception": false,
     "start_time": "2024-06-12T05:09:33.529082",
     "status": "completed"
    },
    "tags": []
   },
   "outputs": [
    {
     "name": "stdout",
     "output_type": "stream",
     "text": [
      "{'train': '/kaggle/working/datasets/coco/images/train', 'val': '/kaggle/working/datasets/coco/images/val', 'test': '/kaggle/working/datasets/coco/images/val', 'target': '/kaggle/working/datasets/coco/images/unlabeled', 'nc': 8, 'names': ['bicycle', 'car', 'motorcycle', 'airplane', 'bus', 'train', 'truck', 'boat']}\n"
     ]
    }
   ],
   "source": [
    "def read_yaml(file_path):\n",
    "    with open(file_path, 'r') as file:\n",
    "        data = yaml.safe_load(file)\n",
    "    return data\n",
    "\n",
    "# Example usage\n",
    "file_path = '/kaggle/working/datasets/coco/dataset.yaml'  # Replace with your file path\n",
    "yaml_data = read_yaml(file_path)\n",
    "print(yaml_data)"
   ]
  },
  {
   "cell_type": "code",
   "execution_count": 4,
   "id": "0a6c338e",
   "metadata": {
    "execution": {
     "iopub.execute_input": "2024-06-12T05:09:33.551967Z",
     "iopub.status.busy": "2024-06-12T05:09:33.551673Z",
     "iopub.status.idle": "2024-06-12T05:09:33.555258Z",
     "shell.execute_reply": "2024-06-12T05:09:33.554434Z"
    },
    "papermill": {
     "duration": 0.009866,
     "end_time": "2024-06-12T05:09:33.557187",
     "exception": false,
     "start_time": "2024-06-12T05:09:33.547321",
     "status": "completed"
    },
    "tags": []
   },
   "outputs": [],
   "source": [
    "# !rm -rf /kaggle/working/efficientteacher\n",
    "# %cd /kaggle/working/\n",
    "# !ls /kaggle/working"
   ]
  },
  {
   "cell_type": "code",
   "execution_count": 5,
   "id": "7e32fa91",
   "metadata": {
    "execution": {
     "iopub.execute_input": "2024-06-12T05:09:33.565765Z",
     "iopub.status.busy": "2024-06-12T05:09:33.565492Z",
     "iopub.status.idle": "2024-06-12T05:09:35.636076Z",
     "shell.execute_reply": "2024-06-12T05:09:35.634903Z"
    },
    "papermill": {
     "duration": 2.07755,
     "end_time": "2024-06-12T05:09:35.638538",
     "exception": false,
     "start_time": "2024-06-12T05:09:33.560988",
     "status": "completed"
    },
    "tags": []
   },
   "outputs": [
    {
     "name": "stdout",
     "output_type": "stream",
     "text": [
      "Cloning into 'efficientteacher'...\r\n",
      "remote: Enumerating objects: 482, done.\u001b[K\r\n",
      "remote: Counting objects: 100% (154/154), done.\u001b[K\r\n",
      "remote: Compressing objects: 100% (113/113), done.\u001b[K\r\n",
      "remote: Total 482 (delta 117), reused 41 (delta 41), pack-reused 328\u001b[K\r\n",
      "Receiving objects: 100% (482/482), 1.97 MiB | 10.73 MiB/s, done.\r\n",
      "Resolving deltas: 100% (255/255), done.\r\n"
     ]
    }
   ],
   "source": [
    "!git clone https://github.com/Min-KiD/efficientteacher.git"
   ]
  },
  {
   "cell_type": "code",
   "execution_count": 6,
   "id": "b1edaac8",
   "metadata": {
    "execution": {
     "iopub.execute_input": "2024-06-12T05:09:35.649329Z",
     "iopub.status.busy": "2024-06-12T05:09:35.649015Z",
     "iopub.status.idle": "2024-06-12T05:09:35.655629Z",
     "shell.execute_reply": "2024-06-12T05:09:35.654714Z"
    },
    "papermill": {
     "duration": 0.014421,
     "end_time": "2024-06-12T05:09:35.657792",
     "exception": false,
     "start_time": "2024-06-12T05:09:35.643371",
     "status": "completed"
    },
    "tags": []
   },
   "outputs": [
    {
     "name": "stdout",
     "output_type": "stream",
     "text": [
      "/kaggle/working/efficientteacher\n"
     ]
    }
   ],
   "source": [
    "%cd efficientteacher"
   ]
  },
  {
   "cell_type": "code",
   "execution_count": 7,
   "id": "b6a4d390",
   "metadata": {
    "execution": {
     "iopub.execute_input": "2024-06-12T05:09:35.667860Z",
     "iopub.status.busy": "2024-06-12T05:09:35.667560Z",
     "iopub.status.idle": "2024-06-12T05:09:50.678158Z",
     "shell.execute_reply": "2024-06-12T05:09:50.676971Z"
    },
    "papermill": {
     "duration": 15.018347,
     "end_time": "2024-06-12T05:09:50.680710",
     "exception": false,
     "start_time": "2024-06-12T05:09:35.662363",
     "status": "completed"
    },
    "tags": []
   },
   "outputs": [
    {
     "name": "stdout",
     "output_type": "stream",
     "text": [
      "Requirement already satisfied: matplotlib>=3.2.2 in /opt/conda/lib/python3.10/site-packages (from -r requirements.txt (line 4)) (3.7.5)\r\n",
      "Requirement already satisfied: numpy>=1.18.5 in /opt/conda/lib/python3.10/site-packages (from -r requirements.txt (line 5)) (1.26.4)\r\n",
      "Requirement already satisfied: opencv-python>=4.1.2 in /opt/conda/lib/python3.10/site-packages (from -r requirements.txt (line 6)) (4.10.0.82)\r\n",
      "Requirement already satisfied: Pillow>=7.1.2 in /opt/conda/lib/python3.10/site-packages (from -r requirements.txt (line 7)) (9.5.0)\r\n",
      "Requirement already satisfied: PyYAML>=5.3.1 in /opt/conda/lib/python3.10/site-packages (from -r requirements.txt (line 8)) (6.0.1)\r\n",
      "Requirement already satisfied: requests>=2.23.0 in /opt/conda/lib/python3.10/site-packages (from -r requirements.txt (line 9)) (2.32.3)\r\n",
      "Requirement already satisfied: scipy>=1.4.1 in /opt/conda/lib/python3.10/site-packages (from -r requirements.txt (line 10)) (1.11.4)\r\n",
      "Requirement already satisfied: torch>=1.9.0 in /opt/conda/lib/python3.10/site-packages (from -r requirements.txt (line 11)) (2.1.2)\r\n",
      "Requirement already satisfied: torchvision>=0.8.1 in /opt/conda/lib/python3.10/site-packages (from -r requirements.txt (line 12)) (0.16.2)\r\n",
      "Requirement already satisfied: tqdm>=4.41.0 in /opt/conda/lib/python3.10/site-packages (from -r requirements.txt (line 13)) (4.66.4)\r\n",
      "Requirement already satisfied: tensorboard>=2.4.1 in /opt/conda/lib/python3.10/site-packages (from -r requirements.txt (line 16)) (2.15.1)\r\n",
      "Requirement already satisfied: pandas>=1.1.4 in /opt/conda/lib/python3.10/site-packages (from -r requirements.txt (line 21)) (2.2.1)\r\n",
      "Requirement already satisfied: seaborn>=0.11.0 in /opt/conda/lib/python3.10/site-packages (from -r requirements.txt (line 22)) (0.12.2)\r\n",
      "Collecting onnx-simplifier>=0.3.6 (from -r requirements.txt (line 27))\r\n",
      "  Downloading onnx_simplifier-0.4.36-cp310-cp310-manylinux_2_17_x86_64.manylinux2014_x86_64.whl.metadata (4.3 kB)\r\n",
      "Collecting thop (from -r requirements.txt (line 37))\r\n",
      "  Downloading thop-0.1.1.post2209072238-py3-none-any.whl.metadata (2.7 kB)\r\n",
      "Requirement already satisfied: contourpy>=1.0.1 in /opt/conda/lib/python3.10/site-packages (from matplotlib>=3.2.2->-r requirements.txt (line 4)) (1.2.0)\r\n",
      "Requirement already satisfied: cycler>=0.10 in /opt/conda/lib/python3.10/site-packages (from matplotlib>=3.2.2->-r requirements.txt (line 4)) (0.12.1)\r\n",
      "Requirement already satisfied: fonttools>=4.22.0 in /opt/conda/lib/python3.10/site-packages (from matplotlib>=3.2.2->-r requirements.txt (line 4)) (4.47.0)\r\n",
      "Requirement already satisfied: kiwisolver>=1.0.1 in /opt/conda/lib/python3.10/site-packages (from matplotlib>=3.2.2->-r requirements.txt (line 4)) (1.4.5)\r\n",
      "Requirement already satisfied: packaging>=20.0 in /opt/conda/lib/python3.10/site-packages (from matplotlib>=3.2.2->-r requirements.txt (line 4)) (21.3)\r\n",
      "Requirement already satisfied: pyparsing>=2.3.1 in /opt/conda/lib/python3.10/site-packages (from matplotlib>=3.2.2->-r requirements.txt (line 4)) (3.1.1)\r\n",
      "Requirement already satisfied: python-dateutil>=2.7 in /opt/conda/lib/python3.10/site-packages (from matplotlib>=3.2.2->-r requirements.txt (line 4)) (2.9.0.post0)\r\n",
      "Requirement already satisfied: charset-normalizer<4,>=2 in /opt/conda/lib/python3.10/site-packages (from requests>=2.23.0->-r requirements.txt (line 9)) (3.3.2)\r\n",
      "Requirement already satisfied: idna<4,>=2.5 in /opt/conda/lib/python3.10/site-packages (from requests>=2.23.0->-r requirements.txt (line 9)) (3.6)\r\n",
      "Requirement already satisfied: urllib3<3,>=1.21.1 in /opt/conda/lib/python3.10/site-packages (from requests>=2.23.0->-r requirements.txt (line 9)) (1.26.18)\r\n",
      "Requirement already satisfied: certifi>=2017.4.17 in /opt/conda/lib/python3.10/site-packages (from requests>=2.23.0->-r requirements.txt (line 9)) (2024.2.2)\r\n",
      "Requirement already satisfied: filelock in /opt/conda/lib/python3.10/site-packages (from torch>=1.9.0->-r requirements.txt (line 11)) (3.13.1)\r\n",
      "Requirement already satisfied: typing-extensions in /opt/conda/lib/python3.10/site-packages (from torch>=1.9.0->-r requirements.txt (line 11)) (4.9.0)\r\n",
      "Requirement already satisfied: sympy in /opt/conda/lib/python3.10/site-packages (from torch>=1.9.0->-r requirements.txt (line 11)) (1.12.1)\r\n",
      "Requirement already satisfied: networkx in /opt/conda/lib/python3.10/site-packages (from torch>=1.9.0->-r requirements.txt (line 11)) (3.2.1)\r\n",
      "Requirement already satisfied: jinja2 in /opt/conda/lib/python3.10/site-packages (from torch>=1.9.0->-r requirements.txt (line 11)) (3.1.2)\r\n",
      "Requirement already satisfied: fsspec in /opt/conda/lib/python3.10/site-packages (from torch>=1.9.0->-r requirements.txt (line 11)) (2024.3.1)\r\n",
      "Requirement already satisfied: absl-py>=0.4 in /opt/conda/lib/python3.10/site-packages (from tensorboard>=2.4.1->-r requirements.txt (line 16)) (1.4.0)\r\n",
      "Requirement already satisfied: grpcio>=1.48.2 in /opt/conda/lib/python3.10/site-packages (from tensorboard>=2.4.1->-r requirements.txt (line 16)) (1.59.3)\r\n",
      "Requirement already satisfied: google-auth<3,>=1.6.3 in /opt/conda/lib/python3.10/site-packages (from tensorboard>=2.4.1->-r requirements.txt (line 16)) (2.26.1)\r\n",
      "Requirement already satisfied: google-auth-oauthlib<2,>=0.5 in /opt/conda/lib/python3.10/site-packages (from tensorboard>=2.4.1->-r requirements.txt (line 16)) (1.2.0)\r\n",
      "Requirement already satisfied: markdown>=2.6.8 in /opt/conda/lib/python3.10/site-packages (from tensorboard>=2.4.1->-r requirements.txt (line 16)) (3.5.2)\r\n",
      "Requirement already satisfied: protobuf<4.24,>=3.19.6 in /opt/conda/lib/python3.10/site-packages (from tensorboard>=2.4.1->-r requirements.txt (line 16)) (3.20.3)\r\n",
      "Requirement already satisfied: setuptools>=41.0.0 in /opt/conda/lib/python3.10/site-packages (from tensorboard>=2.4.1->-r requirements.txt (line 16)) (69.0.3)\r\n",
      "Requirement already satisfied: six>1.9 in /opt/conda/lib/python3.10/site-packages (from tensorboard>=2.4.1->-r requirements.txt (line 16)) (1.16.0)\r\n",
      "Requirement already satisfied: tensorboard-data-server<0.8.0,>=0.7.0 in /opt/conda/lib/python3.10/site-packages (from tensorboard>=2.4.1->-r requirements.txt (line 16)) (0.7.2)\r\n",
      "Requirement already satisfied: werkzeug>=1.0.1 in /opt/conda/lib/python3.10/site-packages (from tensorboard>=2.4.1->-r requirements.txt (line 16)) (3.0.3)\r\n",
      "Requirement already satisfied: pytz>=2020.1 in /opt/conda/lib/python3.10/site-packages (from pandas>=1.1.4->-r requirements.txt (line 21)) (2023.3.post1)\r\n",
      "Requirement already satisfied: tzdata>=2022.7 in /opt/conda/lib/python3.10/site-packages (from pandas>=1.1.4->-r requirements.txt (line 21)) (2023.4)\r\n",
      "Requirement already satisfied: onnx in /opt/conda/lib/python3.10/site-packages (from onnx-simplifier>=0.3.6->-r requirements.txt (line 27)) (1.16.1)\r\n",
      "Requirement already satisfied: rich in /opt/conda/lib/python3.10/site-packages (from onnx-simplifier>=0.3.6->-r requirements.txt (line 27)) (13.7.0)\r\n",
      "Requirement already satisfied: cachetools<6.0,>=2.0.0 in /opt/conda/lib/python3.10/site-packages (from google-auth<3,>=1.6.3->tensorboard>=2.4.1->-r requirements.txt (line 16)) (4.2.4)\r\n",
      "Requirement already satisfied: pyasn1-modules>=0.2.1 in /opt/conda/lib/python3.10/site-packages (from google-auth<3,>=1.6.3->tensorboard>=2.4.1->-r requirements.txt (line 16)) (0.3.0)\r\n",
      "Requirement already satisfied: rsa<5,>=3.1.4 in /opt/conda/lib/python3.10/site-packages (from google-auth<3,>=1.6.3->tensorboard>=2.4.1->-r requirements.txt (line 16)) (4.9)\r\n",
      "Requirement already satisfied: requests-oauthlib>=0.7.0 in /opt/conda/lib/python3.10/site-packages (from google-auth-oauthlib<2,>=0.5->tensorboard>=2.4.1->-r requirements.txt (line 16)) (1.3.1)\r\n",
      "Requirement already satisfied: MarkupSafe>=2.1.1 in /opt/conda/lib/python3.10/site-packages (from werkzeug>=1.0.1->tensorboard>=2.4.1->-r requirements.txt (line 16)) (2.1.3)\r\n",
      "Requirement already satisfied: markdown-it-py>=2.2.0 in /opt/conda/lib/python3.10/site-packages (from rich->onnx-simplifier>=0.3.6->-r requirements.txt (line 27)) (3.0.0)\r\n",
      "Requirement already satisfied: pygments<3.0.0,>=2.13.0 in /opt/conda/lib/python3.10/site-packages (from rich->onnx-simplifier>=0.3.6->-r requirements.txt (line 27)) (2.17.2)\r\n",
      "Requirement already satisfied: mpmath<1.4.0,>=1.1.0 in /opt/conda/lib/python3.10/site-packages (from sympy->torch>=1.9.0->-r requirements.txt (line 11)) (1.3.0)\r\n",
      "Requirement already satisfied: mdurl~=0.1 in /opt/conda/lib/python3.10/site-packages (from markdown-it-py>=2.2.0->rich->onnx-simplifier>=0.3.6->-r requirements.txt (line 27)) (0.1.2)\r\n",
      "Requirement already satisfied: pyasn1<0.6.0,>=0.4.6 in /opt/conda/lib/python3.10/site-packages (from pyasn1-modules>=0.2.1->google-auth<3,>=1.6.3->tensorboard>=2.4.1->-r requirements.txt (line 16)) (0.5.1)\r\n",
      "Requirement already satisfied: oauthlib>=3.0.0 in /opt/conda/lib/python3.10/site-packages (from requests-oauthlib>=0.7.0->google-auth-oauthlib<2,>=0.5->tensorboard>=2.4.1->-r requirements.txt (line 16)) (3.2.2)\r\n",
      "Downloading onnx_simplifier-0.4.36-cp310-cp310-manylinux_2_17_x86_64.manylinux2014_x86_64.whl (2.3 MB)\r\n",
      "\u001b[2K   \u001b[90m━━━━━━━━━━━━━━━━━━━━━━━━━━━━━━━━━━━━━━━━\u001b[0m \u001b[32m2.3/2.3 MB\u001b[0m \u001b[31m10.5 MB/s\u001b[0m eta \u001b[36m0:00:00\u001b[0m\r\n",
      "\u001b[?25hDownloading thop-0.1.1.post2209072238-py3-none-any.whl (15 kB)\r\n",
      "Installing collected packages: thop, onnx-simplifier\r\n",
      "Successfully installed onnx-simplifier-0.4.36 thop-0.1.1.post2209072238\r\n"
     ]
    }
   ],
   "source": [
    "!pip install -r requirements.txt"
   ]
  },
  {
   "cell_type": "code",
   "execution_count": 8,
   "id": "ea716dc9",
   "metadata": {
    "execution": {
     "iopub.execute_input": "2024-06-12T05:09:50.696897Z",
     "iopub.status.busy": "2024-06-12T05:09:50.696252Z",
     "iopub.status.idle": "2024-06-12T05:09:50.703081Z",
     "shell.execute_reply": "2024-06-12T05:09:50.701892Z"
    },
    "papermill": {
     "duration": 0.016848,
     "end_time": "2024-06-12T05:09:50.705196",
     "exception": false,
     "start_time": "2024-06-12T05:09:50.688348",
     "status": "completed"
    },
    "tags": []
   },
   "outputs": [
    {
     "name": "stdout",
     "output_type": "stream",
     "text": [
      "/kaggle/working\n"
     ]
    }
   ],
   "source": [
    "%cd /kaggle/working/"
   ]
  },
  {
   "cell_type": "code",
   "execution_count": 9,
   "id": "7c227d6c",
   "metadata": {
    "execution": {
     "iopub.execute_input": "2024-06-12T05:09:50.721113Z",
     "iopub.status.busy": "2024-06-12T05:09:50.720419Z",
     "iopub.status.idle": "2024-06-12T10:09:32.247811Z",
     "shell.execute_reply": "2024-06-12T10:09:32.246761Z"
    },
    "papermill": {
     "duration": 17981.538233,
     "end_time": "2024-06-12T10:09:32.250438",
     "exception": false,
     "start_time": "2024-06-12T05:09:50.712205",
     "status": "completed"
    },
    "tags": []
   },
   "outputs": [
    {
     "name": "stdout",
     "output_type": "stream",
     "text": [
      "[2024-06-12 05:09:53,636] torch.distributed.run: [WARNING] \r\n",
      "[2024-06-12 05:09:53,636] torch.distributed.run: [WARNING] *****************************************\r\n",
      "[2024-06-12 05:09:53,636] torch.distributed.run: [WARNING] Setting OMP_NUM_THREADS environment variable for each process to be 1 in default, to avoid your system being overloaded, please further tune the variable for optimal performance in your application as needed. \r\n",
      "[2024-06-12 05:09:53,636] torch.distributed.run: [WARNING] *****************************************\r\n",
      "Downloading https://ultralytics.com/assets/Arial.ttf to /root/.config/Ultralytics/Arial.ttf...\r\n",
      "2024-06-12 05:10:01.850969: E external/local_xla/xla/stream_executor/cuda/cuda_dnn.cc:9261] Unable to register cuDNN factory: Attempting to register factory for plugin cuDNN when one has already been registered\r\n",
      "2024-06-12 05:10:01.850969: E external/local_xla/xla/stream_executor/cuda/cuda_dnn.cc:9261] Unable to register cuDNN factory: Attempting to register factory for plugin cuDNN when one has already been registered\r\n",
      "2024-06-12 05:10:01.851048: E external/local_xla/xla/stream_executor/cuda/cuda_fft.cc:607] Unable to register cuFFT factory: Attempting to register factory for plugin cuFFT when one has already been registered\r\n",
      "2024-06-12 05:10:01.851096: E external/local_xla/xla/stream_executor/cuda/cuda_fft.cc:607] Unable to register cuFFT factory: Attempting to register factory for plugin cuFFT when one has already been registered\r\n",
      "2024-06-12 05:10:01.947020: E external/local_xla/xla/stream_executor/cuda/cuda_blas.cc:1515] Unable to register cuBLAS factory: Attempting to register factory for plugin cuBLAS when one has already been registered\r\n",
      "2024-06-12 05:10:01.947013: E external/local_xla/xla/stream_executor/cuda/cuda_blas.cc:1515] Unable to register cuBLAS factory: Attempting to register factory for plugin cuBLAS when one has already been registered\r\n",
      "\u001b[34m\u001b[1mwandb\u001b[0m: (1) Create a W&B account\r\n",
      "\u001b[34m\u001b[1mwandb\u001b[0m: (2) Use an existing W&B account\r\n",
      "\u001b[34m\u001b[1mwandb\u001b[0m: (3) Don't visualize my results\r\n",
      "\u001b[34m\u001b[1mwandb\u001b[0m: Enter your choice: (30 second timeout) \r\n",
      "\u001b[34m\u001b[1mwandb\u001b[0m: W&B disabled due to login timeout.\r\n",
      "\u001b[34m\u001b[1mtrain: \u001b[0m__immutable__=False, __deprecated_keys__=set(), __renamed_keys__={}, __new_allowed__=False\r\n",
      "EfficientTeacher  78f41e5 torch 2.1.2 CUDA:0 (Tesla T4, 15102.0625MB)\r\n",
      "\r\n",
      "\u001b[34m\u001b[1mWeights & Biases: \u001b[0mrun 'pip install wandb' to automatically track and visualize EfficientTeacher runs (RECOMMENDED)\r\n",
      "\u001b[34m\u001b[1mTensorBoard: \u001b[0mStart with 'tensorboard --logdir exp_ssod', view at http://localhost:6006/\r\n",
      "Model summary: 478 layers, 47555829 parameters, 47555829 gradients\r\n",
      "\r\n",
      "Scaled weight_decay = 0.0005\r\n",
      "\u001b[34m\u001b[1moptimizer:\u001b[0m SGD with parameter groups 110 weight, 101 weight (no decay), 104 bias\r\n",
      "\u001b[34m\u001b[1malbumentations: \u001b[0mBlur(always_apply=False, p=0.01, blur_limit=(3, 7)), MedianBlur(always_apply=False, p=0.01, blur_limit=(3, 7)), ToGray(always_apply=False, p=0.01), CLAHE(always_apply=False, p=0.01, clip_limit=(1, 4.0), tile_grid_size=(8, 8))\r\n",
      "/opt/conda/lib/python3.10/multiprocessing/popen_fork.py:66: RuntimeWarning: os.fork() was called. os.fork() is incompatible with multithreaded code, and JAX is multithreaded, so this will likely lead to a deadlock.\r\n",
      "  self.pid = os.fork()\r\n",
      "\u001b[34m\u001b[1mtrain: \u001b[0mScanning 'data/coco/train2017_p10.0_labeled_data' images and labels...273\u001b[0m\r\n",
      "\u001b[34m\u001b[1mtrain: \u001b[0mNew cache created: data/coco/train2017_p10.0_labeled_data.cache\r\n",
      "cls gt ratio(positive): (732.00-0) (4297.00-1) (842.00-2) (490.00-3) (544.00-4) (485.00-5) (1071.00-6) (1071.00-7)\r\n",
      "cls gt total number: 9532.0 label number per image: 3.4851919561243143\r\n",
      "world_size: 2\r\n",
      "rank: 0\r\n",
      "\u001b[34m\u001b[1malbumentations: \u001b[0mBlur(always_apply=False, p=0.01, blur_limit=(3, 7)), MedianBlur(always_apply=False, p=0.01, blur_limit=(3, 7)), ToGray(always_apply=False, p=0.01), CLAHE(always_apply=False, p=0.01, clip_limit=(1, 4.0), tile_grid_size=(8, 8))\r\n",
      "\u001b[34m\u001b[1mtrain: \u001b[0mScanning 'data/coco/train2017_p10.0_labeled_data.cache' images and labels\u001b[0m\r\n",
      "world_size: 2\r\n",
      "rank: 1\r\n",
      "/opt/conda/lib/python3.10/multiprocessing/popen_fork.py:66: RuntimeWarning: os.fork() was called. os.fork() is incompatible with multithreaded code, and JAX is multithreaded, so this will likely lead to a deadlock.\r\n",
      "  self.pid = os.fork()\r\n",
      "\u001b[34m\u001b[1mtarget: \u001b[0mScanning 'data/coco/train2017_p10.0_unlabeled_data' images and labels...\u001b[0m\r\n",
      "\u001b[34m\u001b[1mtarget: \u001b[0mNew cache created: data/coco/train2017_p10.0_unlabeled_data.cache\r\n",
      "\u001b[34m\u001b[1mval: \u001b[0mScanning 'data/coco/val2017' images and labels...1232 found, 0 missing, 0 e\u001b[0m\r\n",
      "\u001b[34m\u001b[1mtarget: \u001b[0mScanning 'data/coco/train2017_p10.0_unlabeled_data.cache' for images and\u001b[0m\r\n",
      "\u001b[34m\u001b[1mval: \u001b[0mNew cache created: data/coco/val2017.cache\r\n",
      "cls gt ratio(positive): (364.00-0) (2054.00-1) (356.00-2) (180.00-3) (283.00-4) (227.00-5) (420.00-6) (417.00-7)\r\n",
      "cls gt total number: 4301.0 label number per image: 3.4910714285714284\r\n",
      "Plotting labels... \r\n",
      "/opt/conda/lib/python3.10/site-packages/seaborn/_oldcore.py:1119: FutureWarning: use_inf_as_na option is deprecated and will be removed in a future version. Convert inf values to NaN before operating instead.\r\n",
      "  with pd.option_context('mode.use_inf_as_na', True):\r\n",
      "/opt/conda/lib/python3.10/site-packages/seaborn/_oldcore.py:1119: FutureWarning: use_inf_as_na option is deprecated and will be removed in a future version. Convert inf values to NaN before operating instead.\r\n",
      "  with pd.option_context('mode.use_inf_as_na', True):\r\n",
      "/opt/conda/lib/python3.10/site-packages/seaborn/_oldcore.py:1119: FutureWarning: use_inf_as_na option is deprecated and will be removed in a future version. Convert inf values to NaN before operating instead.\r\n",
      "  with pd.option_context('mode.use_inf_as_na', True):\r\n",
      "/opt/conda/lib/python3.10/site-packages/seaborn/_oldcore.py:1119: FutureWarning: use_inf_as_na option is deprecated and will be removed in a future version. Convert inf values to NaN before operating instead.\r\n",
      "  with pd.option_context('mode.use_inf_as_na', True):\r\n",
      "/opt/conda/lib/python3.10/site-packages/seaborn/_oldcore.py:1119: FutureWarning: use_inf_as_na option is deprecated and will be removed in a future version. Convert inf values to NaN before operating instead.\r\n",
      "  with pd.option_context('mode.use_inf_as_na', True):\r\n",
      "/opt/conda/lib/python3.10/site-packages/seaborn/_oldcore.py:1119: FutureWarning: use_inf_as_na option is deprecated and will be removed in a future version. Convert inf values to NaN before operating instead.\r\n",
      "  with pd.option_context('mode.use_inf_as_na', True):\r\n",
      "/opt/conda/lib/python3.10/site-packages/seaborn/_oldcore.py:1119: FutureWarning: use_inf_as_na option is deprecated and will be removed in a future version. Convert inf values to NaN before operating instead.\r\n",
      "  with pd.option_context('mode.use_inf_as_na', True):\r\n",
      "/opt/conda/lib/python3.10/site-packages/seaborn/_oldcore.py:1119: FutureWarning: use_inf_as_na option is deprecated and will be removed in a future version. Convert inf values to NaN before operating instead.\r\n",
      "  with pd.option_context('mode.use_inf_as_na', True):\r\n",
      "/opt/conda/lib/python3.10/site-packages/seaborn/_oldcore.py:1119: FutureWarning: use_inf_as_na option is deprecated and will be removed in a future version. Convert inf values to NaN before operating instead.\r\n",
      "  with pd.option_context('mode.use_inf_as_na', True):\r\n",
      "/opt/conda/lib/python3.10/site-packages/seaborn/_oldcore.py:1119: FutureWarning: use_inf_as_na option is deprecated and will be removed in a future version. Convert inf values to NaN before operating instead.\r\n",
      "  with pd.option_context('mode.use_inf_as_na', True):\r\n",
      "/opt/conda/lib/python3.10/site-packages/seaborn/_oldcore.py:1119: FutureWarning: use_inf_as_na option is deprecated and will be removed in a future version. Convert inf values to NaN before operating instead.\r\n",
      "  with pd.option_context('mode.use_inf_as_na', True):\r\n",
      "/opt/conda/lib/python3.10/site-packages/seaborn/_oldcore.py:1119: FutureWarning: use_inf_as_na option is deprecated and will be removed in a future version. Convert inf values to NaN before operating instead.\r\n",
      "  with pd.option_context('mode.use_inf_as_na', True):\r\n",
      "/opt/conda/lib/python3.10/site-packages/seaborn/_oldcore.py:1119: FutureWarning: use_inf_as_na option is deprecated and will be removed in a future version. Convert inf values to NaN before operating instead.\r\n",
      "  with pd.option_context('mode.use_inf_as_na', True):\r\n",
      "/opt/conda/lib/python3.10/site-packages/seaborn/_oldcore.py:1119: FutureWarning: use_inf_as_na option is deprecated and will be removed in a future version. Convert inf values to NaN before operating instead.\r\n",
      "  with pd.option_context('mode.use_inf_as_na', True):\r\n",
      "/opt/conda/lib/python3.10/site-packages/seaborn/_oldcore.py:1119: FutureWarning: use_inf_as_na option is deprecated and will be removed in a future version. Convert inf values to NaN before operating instead.\r\n",
      "  with pd.option_context('mode.use_inf_as_na', True):\r\n",
      "/opt/conda/lib/python3.10/site-packages/seaborn/_oldcore.py:1119: FutureWarning: use_inf_as_na option is deprecated and will be removed in a future version. Convert inf values to NaN before operating instead.\r\n",
      "  with pd.option_context('mode.use_inf_as_na', True):\r\n",
      "/opt/conda/lib/python3.10/site-packages/seaborn/_oldcore.py:1119: FutureWarning: use_inf_as_na option is deprecated and will be removed in a future version. Convert inf values to NaN before operating instead.\r\n",
      "  with pd.option_context('mode.use_inf_as_na', True):\r\n",
      "/opt/conda/lib/python3.10/site-packages/seaborn/_oldcore.py:1119: FutureWarning: use_inf_as_na option is deprecated and will be removed in a future version. Convert inf values to NaN before operating instead.\r\n",
      "  with pd.option_context('mode.use_inf_as_na', True):\r\n",
      "/opt/conda/lib/python3.10/site-packages/seaborn/_oldcore.py:1119: FutureWarning: use_inf_as_na option is deprecated and will be removed in a future version. Convert inf values to NaN before operating instead.\r\n",
      "  with pd.option_context('mode.use_inf_as_na', True):\r\n",
      "/opt/conda/lib/python3.10/site-packages/seaborn/_oldcore.py:1119: FutureWarning: use_inf_as_na option is deprecated and will be removed in a future version. Convert inf values to NaN before operating instead.\r\n",
      "  with pd.option_context('mode.use_inf_as_na', True):\r\n",
      "Image sizes 640 train, 640 val\r\n",
      "Using 4 dataloader workers\r\n",
      "Logging results to \u001b[1mexp_ssod/exp2\u001b[0m\r\n",
      "Starting training for 15 epochs...\r\n",
      "[W reducer.cpp:1346] Warning: find_unused_parameters=True was specified in DDP constructor, but did not find any unused parameters in the forward pass. This flag results in an extra traversal of the autograd graph every iteration,  which can adversely affect performance. If your model indeed never has any unused parameters in the forward pass, consider turning this flag off. Note that this warning may be a false positive if your model has flow control causing later iterations to have unused parameters. (function operator())\r\n",
      "[W reducer.cpp:1346] Warning: find_unused_parameters=True was specified in DDP constructor, but did not find any unused parameters in the forward pass. This flag results in an extra traversal of the autograd graph every iteration,  which can adversely affect performance. If your model indeed never has any unused parameters in the forward pass, consider turning this flag off. Note that this warning may be a false positive if your model has flow control causing later iterations to have unused parameters. (function operator())\r\n",
      "\r\n",
      "     Epoch   gpu_mem    labels  img_size       box       obj       cls      loss    ss_box    ss_obj    ss_cls        tp    fp_cls    fp_loc   pse_num    gt_num\r\n",
      "  0%|                                                  | 0/1462 [00:00<?, ?it/s]/opt/conda/lib/python3.10/site-packages/torch/functional.py:504: UserWarning: torch.meshgrid: in an upcoming release, it will be required to pass the indexing argument. (Triggered internally at /usr/local/src/pytorch/aten/src/ATen/native/TensorShape.cpp:3526.)\r\n",
      "  return _VF.meshgrid(tensors, **kwargs)  # type: ignore[attr-defined]\r\n",
      "/opt/conda/lib/python3.10/site-packages/torch/functional.py:504: UserWarning: torch.meshgrid: in an upcoming release, it will be required to pass the indexing argument. (Triggered internally at /usr/local/src/pytorch/aten/src/ATen/native/TensorShape.cpp:3526.)\r\n",
      "  return _VF.meshgrid(tensors, **kwargs)  # type: ignore[attr-defined]\r\n",
      "      0/14     10.2G        84       640    0.1092   0.03385   0.03565     1.429/kaggle/working/efficientteacher/models/assigner/yolo_anchor_assigner.py:695: UserWarning: The use of `x.T` on tensors of dimension other than 2 to reverse their shape is deprecated and it will throw an error in a future release. Consider `x.mT` to transpose batches of matrices or `x.permute(*torch.arange(x.ndim - 1, -1, -1))` to reverse the dimensions of a tensor. (Triggered internally at /usr/local/src/pytorch/aten/src/ATen/native/TensorShape.cpp:3614.)\r\n",
      "  score = t[:,6].T\r\n",
      "/kaggle/working/efficientteacher/models/assigner/yolo_anchor_assigner.py:695: UserWarning: The use of `x.T` on tensors of dimension other than 2 to reverse their shape is deprecated and it will throw an error in a future release. Consider `x.mT` to transpose batches of matrices or `x.permute(*torch.arange(x.ndim - 1, -1, -1))` to reverse the dimensions of a tensor. (Triggered internally at /usr/local/src/pytorch/aten/src/ATen/native/TensorShape.cpp:3614.)\r\n",
      "  score = t[:,6].T\r\n",
      "      0/14     10.2G        89       640   0.09417   0.03396   0.03158     1.278\r\n",
      "               Class     Images     Labels          P          R     mAP@.5 mAP@\r\n",
      "                 all       1232       4301     0.0331      0.122     0.0232    0.00794\r\n",
      "               Class     Images     Labels          P          R     mAP@.5 mAP@\r\n",
      "                 all       1232       4301   0.000176      0.031   9.72e-05   3.38e-05\r\n",
      "\r\n",
      "     Epoch   gpu_mem    labels  img_size       box       obj       cls      loss    ss_box    ss_obj    ss_cls        tp    fp_cls    fp_loc   pse_num    gt_num\r\n",
      "      1/14     10.1G        40       640    0.0817   0.03589    0.0285     1.169\r\n",
      "               Class     Images     Labels          P          R     mAP@.5 mAP@\r\n",
      "                 all       1232       4301     0.0731      0.083     0.0192     0.0069\r\n",
      "               Class     Images     Labels          P          R     mAP@.5 mAP@\r\n",
      "                 all       1232       4301   8.93e-05     0.0158   5.37e-05   1.68e-05\r\n",
      "\r\n",
      "     Epoch   gpu_mem    labels  img_size       box       obj       cls      loss    ss_box    ss_obj    ss_cls        tp    fp_cls    fp_loc   pse_num    gt_num\r\n",
      "      2/14     10.1G        39       640   0.08536   0.03468   0.02884     1.191\r\n",
      "               Class     Images     Labels          P          R     mAP@.5 mAP@\r\n",
      "                 all       1232       4301     0.0357     0.0449     0.0118     0.0036\r\n",
      "               Class     Images     Labels          P          R     mAP@.5 mAP@\r\n",
      "                 all       1232       4301   8.89e-05      0.016   5.51e-05   1.74e-05\r\n",
      "\r\n",
      "     Epoch   gpu_mem    labels  img_size       box       obj       cls      loss    ss_box    ss_obj    ss_cls        tp    fp_cls    fp_loc   pse_num    gt_num\r\n",
      "      3/14     10.1G        67       640   0.07965   0.03505   0.02747     1.137\r\n",
      "               Class     Images     Labels          P          R     mAP@.5 mAP@\r\n",
      "                 all       1232       4301      0.141      0.188     0.0829     0.0307\r\n",
      "               Class     Images     Labels          P          R     mAP@.5 mAP@\r\n",
      "                 all       1232       4301   8.76e-05     0.0158    7.2e-05   2.39e-05\r\n",
      "\r\n",
      "     Epoch   gpu_mem    labels  img_size       box       obj       cls      loss    ss_box    ss_obj    ss_cls        tp    fp_cls    fp_loc   pse_num    gt_num\r\n",
      "      4/14     10.1G        86       640   0.08092   0.03576   0.02768     1.155\r\n",
      "               Class     Images     Labels          P          R     mAP@.5 mAP@\r\n",
      "                 all       1232       4301      0.109      0.138     0.0493     0.0163\r\n",
      "               Class     Images     Labels          P          R     mAP@.5 mAP@\r\n",
      "                 all       1232       4301   0.000117     0.0155   7.39e-05   2.22e-05\r\n",
      "\r\n",
      "     Epoch   gpu_mem    labels  img_size       box       obj       cls      loss    ss_box    ss_obj    ss_cls        tp    fp_cls    fp_loc   pse_num    gt_num\r\n",
      "      5/14     10.1G        83       640   0.07711   0.03524   0.02634      1.11\r\n",
      "               Class     Images     Labels          P          R     mAP@.5 mAP@\r\n",
      "                 all       1232       4301      0.219      0.184      0.105     0.0431\r\n",
      "               Class     Images     Labels          P          R     mAP@.5 mAP@\r\n",
      "                 all       1232          0          0          0          0          0\r\n",
      "\r\n",
      "     Epoch   gpu_mem    labels  img_size       box       obj       cls      loss    ss_box    ss_obj    ss_cls        tp    fp_cls    fp_loc   pse_num    gt_num\r\n",
      "      6/14     10.1G        42       640   0.08764   0.03456   0.02937     1.213\r\n",
      "               Class     Images     Labels          P          R     mAP@.5 mAP@\r\n",
      "                 all       1232       4301     0.0879     0.0967      0.029     0.0101\r\n",
      "               Class     Images     Labels          P          R     mAP@.5 mAP@\r\n",
      "                 all       1232          0          0          0          0          0\r\n",
      "\r\n",
      "     Epoch   gpu_mem    labels  img_size       box       obj       cls      loss    ss_box    ss_obj    ss_cls        tp    fp_cls    fp_loc   pse_num    gt_num\r\n",
      "      7/14     10.1G        58       640   0.08028    0.0346   0.02791     1.142\r\n",
      "               Class     Images     Labels          P          R     mAP@.5 mAP@\r\n",
      "                 all       1232       4301      0.137      0.137     0.0761     0.0294\r\n",
      "               Class     Images     Labels          P          R     mAP@.5 mAP@\r\n",
      "                 all       1232          0          0          0          0          0\r\n",
      "\r\n",
      "     Epoch   gpu_mem    labels  img_size       box       obj       cls      loss    ss_box    ss_obj    ss_cls        tp    fp_cls    fp_loc   pse_num    gt_num\r\n",
      "      8/14     10.1G        94       640   0.07968   0.03528   0.02751      1.14\r\n",
      "               Class     Images     Labels          P          R     mAP@.5 mAP@\r\n",
      "                 all       1232       4301      0.137      0.108     0.0598     0.0207\r\n",
      "               Class     Images     Labels          P          R     mAP@.5 mAP@\r\n",
      "                 all       1232          0          0          0          0          0\r\n",
      "\r\n",
      "     Epoch   gpu_mem    labels  img_size       box       obj       cls      loss    ss_box    ss_obj    ss_cls        tp    fp_cls    fp_loc   pse_num    gt_num\r\n",
      "      9/14     10.1G        28       640   0.07577   0.03488   0.02604     1.094\r\n",
      "               Class     Images     Labels          P          R     mAP@.5 mAP@\r\n",
      "                 all       1232       4301       0.27      0.177      0.114     0.0479\r\n",
      "               Class     Images     Labels          P          R     mAP@.5 mAP@\r\n",
      "                 all       1232          0          0          0          0          0\r\n",
      "\r\n",
      "     Epoch   gpu_mem    labels  img_size       box       obj       cls      loss    ss_box    ss_obj    ss_cls        tp    fp_cls    fp_loc   pse_num    gt_num\r\n",
      "     10/14     10.1G        65       640   0.07418    0.0323   0.02493     1.051\r\n",
      "               Class     Images     Labels          P          R     mAP@.5 mAP@\r\n",
      "                 all       1232       4301      0.112      0.123     0.0428     0.0152\r\n",
      "               Class     Images     Labels          P          R     mAP@.5 mAP@\r\n",
      "                 all       1232          0          0          0          0          0\r\n",
      "\r\n",
      "     Epoch   gpu_mem    labels  img_size       box       obj       cls      loss    ss_box    ss_obj    ss_cls        tp    fp_cls    fp_loc   pse_num    gt_num\r\n",
      "     11/14     10.1G        39       640   0.07249   0.03205   0.02422      1.03\r\n",
      "               Class     Images     Labels          P          R     mAP@.5 mAP@\r\n",
      "                 all       1232       4301      0.231      0.214      0.165     0.0753\r\n",
      "               Class     Images     Labels          P          R     mAP@.5 mAP@\r\n",
      "                 all       1232          0          0          0          0          0\r\n",
      "\r\n",
      "     Epoch   gpu_mem    labels  img_size       box       obj       cls      loss    ss_box    ss_obj    ss_cls        tp    fp_cls    fp_loc   pse_num    gt_num\r\n",
      "     12/14     10.1G        58       640   0.07185   0.03199   0.02412     1.024\r\n",
      "               Class     Images     Labels          P          R     mAP@.5 mAP@\r\n",
      "                 all       1232       4301      0.223      0.201      0.145      0.067\r\n",
      "               Class     Images     Labels          P          R     mAP@.5 mAP@\r\n",
      "                 all       1232          0          0          0          0          0\r\n",
      "\r\n",
      "     Epoch   gpu_mem    labels  img_size       box       obj       cls      loss    ss_box    ss_obj    ss_cls        tp    fp_cls    fp_loc   pse_num    gt_num\r\n",
      "     13/14     10.1G        75       640   0.07187   0.03104   0.02372     1.013\r\n",
      "               Class     Images     Labels          P          R     mAP@.5 mAP@\r\n",
      "                 all       1232       4301      0.313       0.17      0.125     0.0471\r\n",
      "               Class     Images     Labels          P          R     mAP@.5 mAP@\r\n",
      "                 all       1232          0          0          0          0          0\r\n",
      "\r\n",
      "     Epoch   gpu_mem    labels  img_size       box       obj       cls      loss    ss_box    ss_obj    ss_cls        tp    fp_cls    fp_loc   pse_num    gt_num\r\n",
      "     14/14     10.1G        76       640    0.0699   0.03111   0.02302    0.9922\r\n",
      "               Class     Images     Labels          P          R     mAP@.5 mAP@\r\n",
      "                 all       1232       4301      0.248      0.212      0.194     0.0878\r\n",
      "               Class     Images     Labels          P          R     mAP@.5 mAP@\r\n",
      "                 all       1232          0          0          0          0          0\r\n",
      "Optimizer stripped from exp_ssod/exp2/weights/last.pt, 95.8MB\r\n",
      "Optimizer stripped from exp_ssod/exp2/weights/best.pt, 95.8MB\r\n",
      "\r\n",
      "Validating exp_ssod/exp2/weights/best.pt...\r\n",
      "Fusing layers... \r\n",
      "Model summary: 417 layers, 47538869 parameters, 0 gradients\r\n",
      "               Class     Images     Labels          P          R     mAP@.5 mAP@\r\n",
      "                 all       1232       4301   0.000176      0.031   9.72e-05   3.38e-05\r\n",
      "                   0       1232        364   0.000369      0.168   0.000223   6.89e-05\r\n",
      "                   1       1232       2054   0.000761      0.073   0.000409   0.000135\r\n",
      "                   2       1232        356          0          0          0          0\r\n",
      "                   3       1232        180          0          0          0          0\r\n",
      "                   4       1232        283   0.000282    0.00707   0.000145   6.65e-05\r\n",
      "                   5       1232        227          0          0          0          0\r\n",
      "                   6       1232        420          0          0          0          0\r\n",
      "                   7       1232        417          0          0          0          0\r\n",
      "Results saved to \u001b[1mexp_ssod/exp2\u001b[0m\r\n",
      "\r\n",
      "15 epochs completed in 4.972 hours.\r\n",
      "Destroying process group... \r\n"
     ]
    }
   ],
   "source": [
    "!torchrun \\\n",
    "    --nproc_per_node 2 \\\n",
    "    --master_port 9527 \\\n",
    "    /kaggle/working/efficientteacher/train.py \\\n",
    "    --cfg /kaggle/working/efficientteacher/configs/ssod/coco-standard/yolov5l_coco_ssod_10_percent.yaml "
   ]
  },
  {
   "cell_type": "code",
   "execution_count": null,
   "id": "c0358af9",
   "metadata": {
    "papermill": {
     "duration": 2.276329,
     "end_time": "2024-06-12T10:09:36.741394",
     "exception": false,
     "start_time": "2024-06-12T10:09:34.465065",
     "status": "completed"
    },
    "tags": []
   },
   "outputs": [],
   "source": []
  }
 ],
 "metadata": {
  "kaggle": {
   "accelerator": "nvidiaTeslaT4",
   "dataSources": [
    {
     "datasetId": 857191,
     "sourceId": 1462296,
     "sourceType": "datasetVersion"
    },
    {
     "datasetId": 5098546,
     "sourceId": 8578788,
     "sourceType": "datasetVersion"
    },
    {
     "datasetId": 4857582,
     "sourceId": 8599216,
     "sourceType": "datasetVersion"
    }
   ],
   "dockerImageVersionId": 30733,
   "isGpuEnabled": true,
   "isInternetEnabled": true,
   "language": "python",
   "sourceType": "notebook"
  },
  "kernelspec": {
   "display_name": "Python 3",
   "language": "python",
   "name": "python3"
  },
  "language_info": {
   "codemirror_mode": {
    "name": "ipython",
    "version": 3
   },
   "file_extension": ".py",
   "mimetype": "text/x-python",
   "name": "python",
   "nbconvert_exporter": "python",
   "pygments_lexer": "ipython3",
   "version": "3.10.13"
  },
  "papermill": {
   "default_parameters": {},
   "duration": 18227.694252,
   "end_time": "2024-06-12T10:09:40.029430",
   "environment_variables": {},
   "exception": null,
   "input_path": "__notebook__.ipynb",
   "output_path": "__notebook__.ipynb",
   "parameters": {},
   "start_time": "2024-06-12T05:05:52.335178",
   "version": "2.5.0"
  }
 },
 "nbformat": 4,
 "nbformat_minor": 5
}
